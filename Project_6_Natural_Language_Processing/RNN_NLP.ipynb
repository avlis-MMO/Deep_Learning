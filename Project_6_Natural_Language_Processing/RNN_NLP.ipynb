{
  "nbformat": 4,
  "nbformat_minor": 0,
  "metadata": {
    "colab": {
      "provenance": [],
      "mount_file_id": "1kyMl1Q3LZDO3bGIL_sfgKWvxvMGuwQks",
      "authorship_tag": "ABX9TyMThxQNlZ5wdknvBOY1uHbQ",
      "include_colab_link": true
    },
    "kernelspec": {
      "name": "python3",
      "display_name": "Python 3"
    },
    "language_info": {
      "name": "python"
    }
  },
  "cells": [
    {
      "cell_type": "markdown",
      "metadata": {
        "id": "view-in-github",
        "colab_type": "text"
      },
      "source": [
        "<a href=\"https://colab.research.google.com/github/avlis-MMO/Deep_Learning/blob/main/Project_6_Natural_Language_Processing/RNN_NLP.ipynb\" target=\"_parent\"><img src=\"https://colab.research.google.com/assets/colab-badge.svg\" alt=\"Open In Colab\"/></a>"
      ]
    },
    {
      "cell_type": "code",
      "execution_count": null,
      "metadata": {
        "id": "JbOVe-WVauiF"
      },
      "outputs": [],
      "source": [
        "!pip install tensorflow\n",
        "!pip install numpy\n",
        "!pip install matplotlib\n",
        "!pip install scipy\n",
        "!pip install pandas"
      ]
    },
    {
      "cell_type": "markdown",
      "source": [
        "# **Load Data**"
      ],
      "metadata": {
        "id": "CxLQGzdlbVjl"
      }
    },
    {
      "cell_type": "code",
      "source": [
        "import matplotlib.pyplot as plt\n",
        "import tensorflow as tf\n",
        "import numpy as np\n",
        "from scipy.spatial.distance import cdist\n",
        "import pandas as pd\n",
        "\n",
        "data = pd.read_csv(\"../content/drive/MyDrive/archive/IMDB_Dataset.csv\")"
      ],
      "metadata": {
        "id": "BxT_HImpbXyL"
      },
      "execution_count": null,
      "outputs": []
    },
    {
      "cell_type": "markdown",
      "source": [
        "# **Preprocess**"
      ],
      "metadata": {
        "id": "wgsy-EUHhDdj"
      }
    },
    {
      "cell_type": "code",
      "source": [
        "\n",
        "\n",
        "data['sentiment'] = data['sentiment'].map({'positive': 1, 'negative': 0})\n",
        "\n",
        "x_train, y_train = data['review'][:40000].values.tolist(),  data['sentiment'][:40000].values.tolist()\n",
        "x_test, y_test = data['review'][40000:50000].values.tolist(), data['sentiment'][40000:50000].values.tolist()\n",
        "\n",
        "y_train = np.array(y_train)\n",
        "y_test = np.array(y_test)\n",
        "\n",
        "print(x_train[0], y_train[1])"
      ],
      "metadata": {
        "id": "RcfJ6CRGhFa1"
      },
      "execution_count": null,
      "outputs": []
    },
    {
      "cell_type": "markdown",
      "source": [],
      "metadata": {
        "id": "EM2wY0mobqGs"
      }
    },
    {
      "cell_type": "markdown",
      "source": [
        "# **Tokenization**"
      ],
      "metadata": {
        "id": "k67blyMUkeFJ"
      }
    },
    {
      "cell_type": "code",
      "source": [
        "tokenizer = tf.keras.preprocessing.text.Tokenizer(num_words=10000)\n",
        "tokenizer.fit_on_texts(data['review'].values.tolist())\n",
        "\n",
        "idx = tokenizer.word_index\n",
        "\n",
        "tokens_train = tokenizer.texts_to_sequences(x_train)\n",
        "tokens_test = tokenizer.texts_to_sequences(x_test)\n",
        "#print(tokens_train[0])\n",
        "\n",
        "length = []\n",
        "for sentences in tokens_train:\n",
        "  length.append(len(sentences))\n",
        "print(sum(length)/len(length))\n",
        "\n",
        "num_tokens = [len(tokens) for tokens in tokens_train + tokens_test]\n",
        "num_tokens = np.array(num_tokens)\n",
        "\n",
        "max_tokens = np.mean(num_tokens) + 2 * np.std(num_tokens)\n",
        "max_tokens = int(max_tokens)\n",
        "\n",
        "tokens_train = tf.keras.utils.pad_sequences(tokens_train, max_tokens)\n",
        "tokens_test = tf.keras.utils.pad_sequences(tokens_test, max_tokens)"
      ],
      "metadata": {
        "id": "EjNEyvhkkdTK"
      },
      "execution_count": null,
      "outputs": []
    },
    {
      "cell_type": "markdown",
      "source": [
        "# **Build Model**"
      ],
      "metadata": {
        "id": "cqZysmkfnmLE"
      }
    },
    {
      "cell_type": "code",
      "source": [
        "embedding_dim = 32\n",
        "lstm_units = 128\n",
        "\n",
        "model = model = tf.keras.models.Sequential([\n",
        "    tf.keras.layers.Embedding(10000, embedding_dim),\n",
        "    tf.keras.layers.LSTM(lstm_units),\n",
        "    tf.keras.layers.Dense(1, activation='sigmoid')\n",
        "])"
      ],
      "metadata": {
        "id": "DtsXHbHvnlYo"
      },
      "execution_count": null,
      "outputs": []
    },
    {
      "cell_type": "markdown",
      "source": [
        "# **Compile Model**"
      ],
      "metadata": {
        "id": "D2I4DzSwrcgY"
      }
    },
    {
      "cell_type": "code",
      "source": [
        "learning_rate = 1e-5\n",
        "optimizer = tf.keras.optimizers.Adam(learning_rate)\n",
        "\n",
        "model.compile(optimizer = optimizer, loss='binary_crossentropy', metrics=['accuracy'])\n"
      ],
      "metadata": {
        "id": "dpvvHkN4rk2C"
      },
      "execution_count": null,
      "outputs": []
    },
    {
      "cell_type": "markdown",
      "source": [
        "# **Train**"
      ],
      "metadata": {
        "id": "Fn76Vm62sBed"
      }
    },
    {
      "cell_type": "code",
      "source": [
        "history = model.fit(tokens_train, y_train, epochs=10, validation_data=(tokens_test, y_test))\n"
      ],
      "metadata": {
        "id": "nRhuO5EmsD49"
      },
      "execution_count": null,
      "outputs": []
    },
    {
      "cell_type": "code",
      "source": [
        "def encode_text(text):\n",
        "  tokens = tf.keras.preprocessing.text.text_to_word_sequence(text)\n",
        "  tokens = [idx[word] if word in idx else 0 for word in tokens]\n",
        "  return tf.keras.utils.pad_sequences([tokens], max_tokens)[0]\n",
        "\n",
        "text = 'This movie was awful, dont understand why anybody would want to see it'\n",
        "encoded = encode_text(text)\n"
      ],
      "metadata": {
        "id": "R7u1nMxiuue4"
      },
      "execution_count": null,
      "outputs": []
    },
    {
      "cell_type": "code",
      "source": [
        "def predict(text):\n",
        "  encoded_text=encode_text(text)\n",
        "  pred = np.zeros((1,max_tokens))\n",
        "  pred[0] = encoded_text\n",
        "  results=model.predict(pred)\n",
        "  print(results[0])\n",
        "\n",
        "text = \"I hated this movie, there wasn't anything good about it. Waste of time\"\n",
        "encoded = predict(text)\n",
        "\n",
        "text = 'I love this movie it was very good, i recommend it to everyone'\n",
        "encoded = predict(text)"
      ],
      "metadata": {
        "id": "URlBgwBNv1S3"
      },
      "execution_count": null,
      "outputs": []
    }
  ]
}