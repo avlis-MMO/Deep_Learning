{
  "nbformat": 4,
  "nbformat_minor": 0,
  "metadata": {
    "colab": {
      "provenance": [],
      "mount_file_id": "1yP8HEpdwX89NeULpGAKmZlEmHVYHQ59h",
      "authorship_tag": "ABX9TyP+vbx8n6KO6F1gphcvjCTq",
      "include_colab_link": true
    },
    "kernelspec": {
      "name": "python3",
      "display_name": "Python 3"
    },
    "language_info": {
      "name": "python"
    }
  },
  "cells": [
    {
      "cell_type": "markdown",
      "metadata": {
        "id": "view-in-github",
        "colab_type": "text"
      },
      "source": [
        "<a href=\"https://colab.research.google.com/github/avlis-MMO/Deep_Learning/blob/main/Book_GNN/Book_GNN.ipynb\" target=\"_parent\"><img src=\"https://colab.research.google.com/assets/colab-badge.svg\" alt=\"Open In Colab\"/></a>"
      ]
    },
    {
      "cell_type": "code",
      "execution_count": null,
      "metadata": {
        "id": "BJdhcovD1ovW"
      },
      "outputs": [],
      "source": [
        "!pip install tensorflow\n",
        "!pip install numpy\n",
        "!pip install matplotlib\n",
        "!pip install scipy\n",
        "!pip install pandas"
      ]
    },
    {
      "cell_type": "markdown",
      "source": [
        "# **Load Data**"
      ],
      "metadata": {
        "id": "tzJ2-s3c10Tv"
      }
    },
    {
      "cell_type": "code",
      "source": [
        "import matplotlib.pyplot as plt\n",
        "import tensorflow as tf\n",
        "import numpy as np\n",
        "import pandas as pd\n",
        "import os\n",
        "import re"
      ],
      "metadata": {
        "id": "iiNm2xwg1v39"
      },
      "execution_count": null,
      "outputs": []
    },
    {
      "cell_type": "code",
      "source": [
        "# Dataset\n",
        "path_to_file = (\"../content/drive/MyDrive/archive/Book.txt\")\n",
        "text_file = open(path_to_file, encoding=\"utf8\")\n",
        "text= text_file.read()\n",
        "text_file.close\n",
        "\n",
        "print(len(text))\n",
        "print(text[:50])"
      ],
      "metadata": {
        "id": "AYkqCTIi5ZKJ"
      },
      "execution_count": null,
      "outputs": []
    },
    {
      "cell_type": "markdown",
      "source": [
        "# **Tokenize**"
      ],
      "metadata": {
        "id": "bnBYK2qn-kPc"
      }
    },
    {
      "cell_type": "code",
      "source": [
        "# Clean text and take out special char\n",
        "text = re.sub(r'[^\\w\\s]', '',text)\n",
        "#text = text.lower()\n",
        "vocab = sorted(set(text))\n",
        "print(vocab)\n",
        "\n",
        "# Create tokenization\n",
        "char2idx = {char:num for num, char in enumerate(vocab)}\n",
        "\n",
        "idx2char=np.array(vocab)\n",
        "\n",
        "# Function to tokenize text\n",
        "def text_to_token(text):\n",
        "  tokenized = []\n",
        "  for c in text:\n",
        "    tokenized.append(char2idx[c])\n",
        "  return tf.convert_to_tensor(tokenized)\n",
        "\n",
        "text_as_token = text_to_token(text)\n",
        "print(text_as_token)"
      ],
      "metadata": {
        "id": "kRrfij-X5tCF"
      },
      "execution_count": null,
      "outputs": []
    },
    {
      "cell_type": "code",
      "source": [
        "\n",
        "print(\"Text:\", text[:13])\n",
        "print(\"Token:\", text_to_token(text[:13]))"
      ],
      "metadata": {
        "id": "Jlzs0RtO_jCz"
      },
      "execution_count": null,
      "outputs": []
    },
    {
      "cell_type": "code",
      "source": [
        "def int_to_text(ints):\n",
        "  try:\n",
        "    ints = ints.numpy()\n",
        "  except:\n",
        "    pass\n",
        "  return ''.join(idx2char[ints])"
      ],
      "metadata": {
        "id": "YWEDXmIBBlgc"
      },
      "execution_count": null,
      "outputs": []
    },
    {
      "cell_type": "markdown",
      "source": [
        "# **Create Training Examples**"
      ],
      "metadata": {
        "id": "nXXraqm9B0fd"
      }
    },
    {
      "cell_type": "code",
      "source": [
        "seq_length = 100\n",
        "batch_size = 32\n",
        "vocab_size = len(vocab)\n",
        "embedding_dim = 256\n",
        "rnn_units = 1024\n",
        "examples_per_epoch = len(text)//(seq_length+1)"
      ],
      "metadata": {
        "id": "HID1uQHiB3mz"
      },
      "execution_count": null,
      "outputs": []
    },
    {
      "cell_type": "code",
      "source": [
        "def split_input_target(vect_text, seq_length, batch_size):\n",
        "\n",
        "  idx = np.random.choice(len(vect_text)-1-seq_length, batch_size)\n",
        "  input_text = []\n",
        "  target_text = []\n",
        "\n",
        "  for i in idx:\n",
        "    input_text.append(vect_text[i:i+seq_length])# Hous\n",
        "    target_text.append(vect_text[i+1:i+seq_length+1])  # ouse\n",
        "\n",
        "  x_batch = np.reshape(input_text, [batch_size, seq_length])\n",
        "  y_batch = np.reshape(target_text, [batch_size, seq_length])\n",
        "\n",
        "  return x_batch, y_batch\n",
        "\n",
        "x, y = split_input_target(text_as_token, seq_length, batch_size)\n",
        "\n"
      ],
      "metadata": {
        "id": "nUgL5pG7DsWU"
      },
      "execution_count": null,
      "outputs": []
    },
    {
      "cell_type": "code",
      "source": [
        "print(x)\n",
        "print(y)"
      ],
      "metadata": {
        "id": "7HD6RPiAEWgC"
      },
      "execution_count": null,
      "outputs": []
    },
    {
      "cell_type": "markdown",
      "source": [
        "# **Building Model**"
      ],
      "metadata": {
        "id": "l5yb2jauM1RN"
      }
    },
    {
      "cell_type": "code",
      "source": [
        "def build_model(vocab_size, embedding_dim, rnn_units, batch_size):\n",
        "  model = tf.keras.Sequential([\n",
        "      tf.keras.layers.Embedding(vocab_size, embedding_dim, batch_input_shape = [batch_size, None]),\n",
        "      tf.keras.layers.LSTM(rnn_units, return_sequences=True, recurrent_initializer='glorot_uniform',  recurrent_activation='sigmoid'),\n",
        "      tf.keras.layers.Dense(vocab_size, activation ='relu')\n",
        "                               ])\n",
        "  return model\n",
        "\n",
        "model = build_model(vocab_size, embedding_dim, rnn_units, batch_size)\n",
        "model.summary()"
      ],
      "metadata": {
        "id": "1pwIQ2-PMec4"
      },
      "execution_count": null,
      "outputs": []
    },
    {
      "cell_type": "markdown",
      "source": [
        "# **Creating a Loss Function**"
      ],
      "metadata": {
        "id": "GxfyeQjuPR9n"
      }
    },
    {
      "cell_type": "code",
      "source": [
        "example_batch_predictions = model(x)\n",
        "print(example_batch_predictions.shape)\n",
        "sampled_indices = tf.random.categorical(example_batch_predictions[0], num_samples=1)\n",
        "sampled_indices = tf.squeeze(sampled_indices, axis=-1).numpy()\n",
        "\n",
        "print(\"Input:\\n\", int_to_text(x[0]))\n",
        "print()\n",
        "print(\"Next Char Predictions:\\n\", int_to_text(sampled_indices))"
      ],
      "metadata": {
        "id": "4Oi0vbO2Pbqm"
      },
      "execution_count": null,
      "outputs": []
    },
    {
      "cell_type": "code",
      "source": [
        "# see what is an example of a prediction\n",
        "print(example_batch_predictions)"
      ],
      "metadata": {
        "id": "q6budQGOQJ6w"
      },
      "execution_count": null,
      "outputs": []
    },
    {
      "cell_type": "code",
      "source": [
        "# see first prediction\n",
        "print(example_batch_predictions[0])"
      ],
      "metadata": {
        "id": "tTszPaHyQqwd"
      },
      "execution_count": null,
      "outputs": []
    },
    {
      "cell_type": "code",
      "source": [
        "# see prediction at the first timestep\n",
        "print(example_batch_predictions[0][0])"
      ],
      "metadata": {
        "id": "c-vPidERQt_r"
      },
      "execution_count": null,
      "outputs": []
    },
    {
      "cell_type": "code",
      "source": [
        "def loss(labels, logits):\n",
        "  return tf.keras.losses.sparse_categorical_crossentropy(labels, logits, from_logits=True)\n",
        "\n",
        "example_batch_loss = loss(y, example_batch_predictions)\n",
        "\n",
        "print(\"Prediction shape: \", example_batch_predictions.shape, \" # (batch_size, sequence_length, vocab_size)\")\n",
        "print(\"scalar_loss:      \", example_batch_loss.numpy().mean())"
      ],
      "metadata": {
        "id": "ayeJdwPSRAyU"
      },
      "execution_count": null,
      "outputs": []
    },
    {
      "cell_type": "markdown",
      "source": [
        "# **Compile Model**"
      ],
      "metadata": {
        "id": "m1qBNTr_Rq-b"
      }
    },
    {
      "cell_type": "code",
      "source": [
        "optimizer = tf.keras.optimizers.Adam(0.001)\n",
        "\n",
        "# Create checkpoints\n",
        "checkpoint_dir = './training_checkpoints'\n",
        "\n",
        "checkpoint_prefix = os.path.join(checkpoint_dir, \"ckpt_{epoch}\")\n",
        "\n",
        "checkpoint_callback = tf.keras.callbacks.ModelCheckpoint(\n",
        "    filepath=checkpoint_prefix,\n",
        "    save_weights_only=True\n",
        ")\n",
        "print(x.shape)"
      ],
      "metadata": {
        "id": "VakS-utiRuol"
      },
      "execution_count": null,
      "outputs": []
    },
    {
      "cell_type": "markdown",
      "source": [
        "# **Train Model**"
      ],
      "metadata": {
        "id": "ETh7ca_FSV1P"
      }
    },
    {
      "cell_type": "code",
      "source": [
        "epochs = 100\n",
        "\n",
        "# Custom training loop\n",
        "for epoch in range(epochs):\n",
        "    # Initialize the LSTM states at the beginning of each epoch\n",
        "\n",
        "\n",
        "    # Iterate through the batches of your training data (x, y)\n",
        "    for iteration in range(examples_per_epoch):\n",
        "        # Extract the batch for the current iteration\n",
        "        x_batch, y_batch = split_input_target(text_as_token, seq_length, batch_size)\n",
        "\n",
        "        with tf.GradientTape() as tape:\n",
        "            # Forward pass\n",
        "            predictions = model(x_batch, training=True)\n",
        "\n",
        "            # Compute the loss\n",
        "            batch_loss = loss(y_batch, predictions)\n",
        "\n",
        "        # Compute gradients\n",
        "        grads = tape.gradient(batch_loss, model.trainable_variables)\n",
        "\n",
        "        # Update model parameters\n",
        "        optimizer.apply_gradients(zip(grads, model.trainable_variables))\n",
        "\n",
        "    # Save model weights after each epoch\n",
        "    model.save_weights(checkpoint_prefix.format(epoch=epoch))\n",
        "\n",
        "    # Print epoch-wise information\n",
        "    print(\"Epoch {}/{} - Loss: {:.4f}\".format(epoch + 1, epochs, batch_loss.numpy()))\n",
        "\n",
        "# Training complete\n",
        "print(\"Training finished.\")"
      ],
      "metadata": {
        "id": "Ltr-TBfxSZhK"
      },
      "execution_count": null,
      "outputs": []
    },
    {
      "cell_type": "markdown",
      "source": [
        "# **Loading the Model**"
      ],
      "metadata": {
        "id": "EcO8nCwnWUtc"
      }
    },
    {
      "cell_type": "code",
      "source": [
        "model = build_model(vocab_size, embedding_dim, rnn_units, batch_size=1)"
      ],
      "metadata": {
        "id": "JzFgOP8rWX1h"
      },
      "execution_count": null,
      "outputs": []
    },
    {
      "cell_type": "code",
      "source": [
        "model.load_weights(tf.train.latest_checkpoint(checkpoint_dir))\n",
        "model.build(tf.TensorShape([1, None]))"
      ],
      "metadata": {
        "id": "oRT4B9RmWhcR"
      },
      "execution_count": null,
      "outputs": []
    },
    {
      "cell_type": "code",
      "source": [
        "def generate_text(model, start_string):\n",
        "  num_generate = 800\n",
        "\n",
        "  input_eval = text_to_token(start_string)\n",
        "  input_eval = tf.expand_dims(input_eval, 0)\n",
        "\n",
        "  text_generated = []\n",
        "\n",
        "  temperature = 2.0\n",
        "\n",
        "\n",
        "  model.reset_states()\n",
        "  for i in range(num_generate):\n",
        "    predictions = model(input_eval)\n",
        "\n",
        "    predictions = tf.squeeze(predictions, 0)\n",
        "\n",
        "    predictions = predictions / temperature\n",
        "    predicted_id = tf.random.categorical(predictions, num_samples=1)[-1,0].numpy()\n",
        "\n",
        "    input_eval = tf.expand_dims([predicted_id], 0)\n",
        "\n",
        "    text_generated.append(idx2char[predicted_id])\n",
        "  return (start_string + ''.join(text_generated))"
      ],
      "metadata": {
        "id": "weoQpQdxWyPb"
      },
      "execution_count": null,
      "outputs": []
    },
    {
      "cell_type": "code",
      "source": [
        "imp = input(\"Type a starting string: \")\n",
        "print(generate_text(model, imp))"
      ],
      "metadata": {
        "id": "J_kwYWqvZL5I"
      },
      "execution_count": null,
      "outputs": []
    }
  ]
}
