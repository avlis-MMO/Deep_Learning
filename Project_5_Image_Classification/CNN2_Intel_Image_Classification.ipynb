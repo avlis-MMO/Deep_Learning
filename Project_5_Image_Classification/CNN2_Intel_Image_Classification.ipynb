{
  "nbformat": 4,
  "nbformat_minor": 0,
  "metadata": {
    "colab": {
      "provenance": [],
      "gpuType": "T4",
      "mount_file_id": "1fmpXRb5uHLxW00QXkurAF5dmac65QpMi",
      "authorship_tag": "ABX9TyPx96ddMflIad69pHk4aARF",
      "include_colab_link": true
    },
    "kernelspec": {
      "name": "python3",
      "display_name": "Python 3"
    },
    "language_info": {
      "name": "python"
    },
    "accelerator": "GPU"
  },
  "cells": [
    {
      "cell_type": "markdown",
      "metadata": {
        "id": "view-in-github",
        "colab_type": "text"
      },
      "source": [
        "<a href=\"https://colab.research.google.com/github/avlis-MMO/Deep_Learning/blob/main/Project_5_Image_Classification/CNN2_Intel_Image_Classification.ipynb\" target=\"_parent\"><img src=\"https://colab.research.google.com/assets/colab-badge.svg\" alt=\"Open In Colab\"/></a>"
      ]
    },
    {
      "cell_type": "code",
      "execution_count": null,
      "metadata": {
        "id": "SjR42gI7jnUf"
      },
      "outputs": [],
      "source": [
        "!pip install tensorflow\n",
        "!pip install numpy\n",
        "!pip install pandas\n",
        "!pip install scikit-learn\n",
        "!pip install seaborn\n",
        "!pip install matplotlib\n",
        "!pip install opencv-python"
      ]
    },
    {
      "cell_type": "markdown",
      "source": [
        "# **Import data**"
      ],
      "metadata": {
        "id": "G4In5Ar3nDTw"
      }
    },
    {
      "cell_type": "code",
      "source": [
        "import tensorflow  as tf\n",
        "import numpy as np\n",
        "import pandas as pd\n",
        "import seaborn as sns\n",
        "import matplotlib.pyplot as plt\n",
        "import os\n",
        "import cv2\n",
        "import random\n",
        "from sklearn.utils import shuffle"
      ],
      "metadata": {
        "id": "_MZgktDpqz4j"
      },
      "execution_count": null,
      "outputs": []
    },
    {
      "cell_type": "code",
      "source": [
        "\n",
        "folderPath_train = \"/content/drive/MyDrive/archive/CNN2_Intel_Classification/seg_train/seg_train\"\n",
        "PathList = os.listdir(folderPath_train)\n",
        "\n",
        "data_train = []\n",
        "label_train = []\n",
        "\n",
        "IMAGE_SIZE = (100, 100)\n",
        "\n",
        "class_names = ['buildings', 'forest', 'glacier', 'mountain', 'sea', 'street']\n",
        "\n",
        "for i, path in enumerate(PathList):\n",
        "  for img in os.listdir(os.path.join(folderPath_train, path)):\n",
        "    label_train.append(i)\n",
        "    image = cv2.imread(os.path.join(os.path.join(folderPath_train, path),img))\n",
        "    image = cv2.cvtColor(image, cv2.COLOR_BGR2RGB)\n",
        "    image = cv2.resize(image, IMAGE_SIZE)\n",
        "    data_train.append(image)\n",
        "\n",
        "data_train = np.array(data_train)\n",
        "label_train = np.array(label_train)\n",
        "\n",
        "folderPath_test = \"/content/drive/MyDrive/archive/CNN2_Intel_Classification/seg_test/seg_test\"\n",
        "PathList = os.listdir(folderPath_test)\n",
        "\n",
        "data_test = []\n",
        "label_test = []\n",
        "\n",
        "for i, path in enumerate(PathList):\n",
        "  for img in os.listdir(os.path.join(folderPath_test, path)):\n",
        "    label_test.append(i)\n",
        "    image = cv2.imread(os.path.join(os.path.join(folderPath_test, path),img))\n",
        "    image = cv2.cvtColor(image, cv2.COLOR_BGR2RGB)\n",
        "    image = cv2.resize(image, IMAGE_SIZE)\n",
        "    data_test.append(image)\n",
        "\n",
        "data_test = np.array(data_test)\n",
        "label_test = np.array(label_test)\n",
        "\n",
        "print(len(data_train))"
      ],
      "metadata": {
        "id": "8beLA1XgnG6f"
      },
      "execution_count": null,
      "outputs": []
    },
    {
      "cell_type": "markdown",
      "source": [
        "# **Visualize data**"
      ],
      "metadata": {
        "id": "9j0DTXJeyvG5"
      }
    },
    {
      "cell_type": "code",
      "source": [
        "n_train = label_train.shape[0]\n",
        "n_test = label_test.shape[0]\n",
        "\n",
        "print (f\"Number of training examples: {n_train}\")\n",
        "print (f\"Number of testing examples: {n_test}\")\n",
        "print (f\"Each image is of size: {IMAGE_SIZE}\")\n",
        "\n",
        "\n",
        "_, train_unique = np.unique(label_train, return_counts=True)\n",
        "_, test_unique = np.unique(label_test, return_counts=True)\n",
        "print(label_train[5])\n",
        "\n",
        "\n",
        "data_train, label_train = shuffle(data_train, label_train, random_state=10)\n",
        "\n",
        "\n",
        "pd.DataFrame({'train': train_unique,\n",
        "                    'test': test_unique},\n",
        "             index=class_names\n",
        "            ).plot.bar()\n",
        "plt.show()\n",
        "\n",
        "fig = plt.figure(figsize=(10,10))\n",
        "fig.suptitle(\"Some examples of images of the dataset\", fontsize=16)\n",
        "\n",
        "rand_n = random.sample(range(1000, 13000), 25)\n",
        "for i in range(25):\n",
        "    plt.subplot(5,5,i+1)\n",
        "    plt.xticks([])\n",
        "    plt.yticks([])\n",
        "    plt.grid(False)\n",
        "    plt.imshow(data_train[rand_n[i]], cmap=plt.cm.binary)\n",
        "    plt.xlabel(class_names[label_train[rand_n[i]]])\n",
        "plt.show()"
      ],
      "metadata": {
        "id": "Yt0nFwv8yx9K"
      },
      "execution_count": null,
      "outputs": []
    },
    {
      "cell_type": "markdown",
      "source": [
        "# **Build Model**"
      ],
      "metadata": {
        "id": "Ica1hW-n1Dt0"
      }
    },
    {
      "cell_type": "code",
      "source": [
        "data_train = data_train /255\n",
        "data_test = data_test /255\n",
        "\n",
        "model = tf.keras.Sequential([\n",
        "    tf.keras.layers.Conv2D(16, (5,5), 2, activation ='relu', input_shape = (100,100,3)),\n",
        "    tf.keras.layers.MaxPool2D(3,3),\n",
        "    tf.keras.layers.Conv2D(32, (3,3), 1, activation ='relu'),\n",
        "    tf.keras.layers.MaxPool2D(2,2),\n",
        "    tf.keras.layers.Conv2D(64, (2,2), 1, activation ='relu'),\n",
        "    tf.keras.layers.MaxPool2D(2,2),\n",
        "    tf.keras.layers.Flatten(),\n",
        "    tf.keras.layers.Dense(128, activation='relu'),\n",
        "    tf.keras.layers.Dropout(rate=0.5),\n",
        "    tf.keras.layers.Dense(6, activation ='softmax')\n",
        "\n",
        "])\n",
        "\n"
      ],
      "metadata": {
        "id": "kF-u3pLK1JJW"
      },
      "execution_count": null,
      "outputs": []
    },
    {
      "cell_type": "markdown",
      "source": [
        "# **Compile model**"
      ],
      "metadata": {
        "id": "iSFmAHmh2cRQ"
      }
    },
    {
      "cell_type": "code",
      "source": [
        "def lr_schedule(epoch, lr):\n",
        "    if epoch < 25:\n",
        "        return lr\n",
        "    else:\n",
        "        return lr * tf.math.exp(-0.1)\n",
        "\n",
        "initial_learning_rate = 0.001\n",
        "model.compile(optimizer=tf.keras.optimizers.Adam(learning_rate=initial_learning_rate),\n",
        "              loss='sparse_categorical_crossentropy',\n",
        "              metrics=['accuracy'])\n",
        "\n",
        "lr_scheduler = tf.keras.callbacks.LearningRateScheduler(lr_schedule)\n",
        "callbacks = [lr_scheduler]"
      ],
      "metadata": {
        "id": "9hf_s78c2ebX"
      },
      "execution_count": null,
      "outputs": []
    },
    {
      "cell_type": "markdown",
      "source": [
        "# **Train model**"
      ],
      "metadata": {
        "id": "AhDaDCv-inf7"
      }
    },
    {
      "cell_type": "code",
      "source": [
        "history = model.fit(data_train, label_train, batch_size=64, epochs=50, validation_split = 0.25, callbacks=callbacks)\n",
        "\n",
        "fig = plt.figure(figsize=(10,5))\n",
        "\n",
        "# Plot accuracy\n",
        "plt.subplot(221)\n",
        "plt.plot(history.history['accuracy'],'bo--', label = \"accuracy\")\n",
        "plt.plot(history.history['val_accuracy'], 'ro--', label = \"val_accuracy\")\n",
        "plt.title(\"train_accuracy vs val_accuracy\")\n",
        "plt.ylabel(\"accuracy\")\n",
        "plt.xlabel(\"epochs\")\n",
        "plt.legend()\n",
        "\n",
        "# Plot loss function\n",
        "plt.subplot(222)\n",
        "plt.plot(history.history['loss'],'bo--', label = \"loss\")\n",
        "plt.plot(history.history['val_loss'], 'ro--', label = \"val_loss\")\n",
        "plt.title(\"train_loss vs val_loss\")\n",
        "plt.ylabel(\"loss\")\n",
        "plt.xlabel(\"epochs\")\n",
        "\n",
        "plt.legend()\n",
        "plt.show()"
      ],
      "metadata": {
        "id": "EG2k7XTsiptE"
      },
      "execution_count": null,
      "outputs": []
    },
    {
      "cell_type": "markdown",
      "source": [
        "# **Test model**"
      ],
      "metadata": {
        "id": "0-Ct3QhgmDfG"
      }
    },
    {
      "cell_type": "code",
      "source": [
        "test_loss = model.evaluate(data_test, label_test)"
      ],
      "metadata": {
        "id": "Vh12E7RgmFrH"
      },
      "execution_count": null,
      "outputs": []
    },
    {
      "cell_type": "markdown",
      "source": [
        "# **Agg data**"
      ],
      "metadata": {
        "id": "-DVuT_H8RvBz"
      }
    },
    {
      "cell_type": "code",
      "source": [
        "# Data agumentation to avoid overfitting\n",
        "\n",
        "data_agg = tf.keras.Sequential([\n",
        "                                tf.keras.layers.experimental.preprocessing.RandomFlip(\"horizontal\", input_shape = (100,100,3)),\n",
        "                                tf.keras.layers.experimental.preprocessing.RandomRotation(0.05),\n",
        "                                tf.keras.layers.experimental.preprocessing.RandomZoom(0.05),\n",
        "\n",
        "])\n",
        "\n"
      ],
      "metadata": {
        "id": "o3cKrkhxPQPw"
      },
      "execution_count": null,
      "outputs": []
    },
    {
      "cell_type": "code",
      "source": [
        "model = tf.keras.Sequential([\n",
        "    data_agg,\n",
        "    tf.keras.layers.Conv2D(16, (5,5), 2, activation ='relu', input_shape = (100,100,3)),\n",
        "    tf.keras.layers.MaxPool2D(3,3),\n",
        "    tf.keras.layers.Conv2D(32, (3,3), 1, activation ='relu'),\n",
        "    tf.keras.layers.MaxPool2D(2,2),\n",
        "    tf.keras.layers.Conv2D(64, (2,2), 1, activation ='relu'),\n",
        "    tf.keras.layers.MaxPool2D(2,2),\n",
        "    tf.keras.layers.Flatten(),\n",
        "    tf.keras.layers.Dense(128, activation='relu'),\n",
        "    tf.keras.layers.Dropout(rate=0.5),\n",
        "    tf.keras.layers.Dense(6, activation ='softmax')\n",
        "\n",
        "])\n",
        "\n",
        "\n"
      ],
      "metadata": {
        "id": "m5AByJ65QX59"
      },
      "execution_count": null,
      "outputs": []
    },
    {
      "cell_type": "code",
      "source": [
        "model.compile(optimizer=tf.keras.optimizers.Adam(learning_rate=initial_learning_rate),\n",
        "              loss='sparse_categorical_crossentropy',\n",
        "              metrics=['accuracy'])\n",
        "\n",
        "lr_scheduler = tf.keras.callbacks.LearningRateScheduler(lr_schedule)\n",
        "callbacks = [lr_scheduler]"
      ],
      "metadata": {
        "id": "YHmsDZTTR27M"
      },
      "execution_count": null,
      "outputs": []
    },
    {
      "cell_type": "code",
      "source": [
        "history = model.fit(data_train, label_train, batch_size=64, epochs=50, validation_split = 0.25, callbacks=callbacks)\n",
        "\n",
        "fig = plt.figure(figsize=(10,5))\n",
        "\n",
        "# Plot accuracy\n",
        "plt.subplot(221)\n",
        "plt.plot(history.history['accuracy'],'bo--', label = \"accuracy\")\n",
        "plt.plot(history.history['val_accuracy'], 'ro--', label = \"val_accuracy\")\n",
        "plt.title(\"train_accuracy vs val_accuracy\")\n",
        "plt.ylabel(\"accuracy\")\n",
        "plt.xlabel(\"epochs\")\n",
        "plt.legend()\n",
        "\n",
        "# Plot loss function\n",
        "plt.subplot(222)\n",
        "plt.plot(history.history['loss'],'bo--', label = \"loss\")\n",
        "plt.plot(history.history['val_loss'], 'ro--', label = \"val_loss\")\n",
        "plt.title(\"train_loss vs val_loss\")\n",
        "plt.ylabel(\"loss\")\n",
        "plt.xlabel(\"epochs\")\n",
        "\n",
        "plt.legend()\n",
        "plt.show()"
      ],
      "metadata": {
        "id": "V1p7k6z8RsIK"
      },
      "execution_count": null,
      "outputs": []
    },
    {
      "cell_type": "code",
      "source": [
        "test_loss = model.evaluate(data_test, label_test)"
      ],
      "metadata": {
        "id": "LT4DBzKCRtkT"
      },
      "execution_count": null,
      "outputs": []
    }
  ]
}