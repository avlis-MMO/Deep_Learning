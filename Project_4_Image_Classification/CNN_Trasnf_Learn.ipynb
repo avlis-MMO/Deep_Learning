{
  "nbformat": 4,
  "nbformat_minor": 0,
  "metadata": {
    "colab": {
      "provenance": [],
      "authorship_tag": "ABX9TyNPzo2O1AmiOjKo4qGWcQZl",
      "include_colab_link": true
    },
    "kernelspec": {
      "name": "python3",
      "display_name": "Python 3"
    },
    "language_info": {
      "name": "python"
    }
  },
  "cells": [
    {
      "cell_type": "markdown",
      "metadata": {
        "id": "view-in-github",
        "colab_type": "text"
      },
      "source": [
        "<a href=\"https://colab.research.google.com/github/avlis-MMO/Deep_Learning/blob/main/Project_4_Image_Classification/CNN_Trasnf_Learn.ipynb\" target=\"_parent\"><img src=\"https://colab.research.google.com/assets/colab-badge.svg\" alt=\"Open In Colab\"/></a>"
      ]
    },
    {
      "cell_type": "markdown",
      "source": [],
      "metadata": {
        "id": "fNMbFAG14gjm"
      }
    },
    {
      "cell_type": "markdown",
      "source": [
        "# **Install Libraries**"
      ],
      "metadata": {
        "id": "pkS0I4hX4x1T"
      }
    },
    {
      "cell_type": "code",
      "execution_count": null,
      "metadata": {
        "id": "Dp14debT4TAk"
      },
      "outputs": [],
      "source": [
        "!pip install matplotlib\n",
        "!pip install tensorflow\n",
        "!pip install numpy"
      ]
    },
    {
      "cell_type": "markdown",
      "source": [
        "# **Import Libraries**"
      ],
      "metadata": {
        "id": "EMdfBWkM41bR"
      }
    },
    {
      "cell_type": "code",
      "source": [
        "import matplotlib.pyplot as plt\n",
        "import tensorflow as tf\n",
        "import numpy as np\n",
        "import random\n"
      ],
      "metadata": {
        "id": "HvcH_Gmj46gX"
      },
      "execution_count": null,
      "outputs": []
    },
    {
      "cell_type": "markdown",
      "source": [
        "# **1. Data Preparation**"
      ],
      "metadata": {
        "id": "LRPHrVO947zp"
      }
    },
    {
      "cell_type": "code",
      "source": [
        "data = tf.keras.datasets.cifar10.load_data()\n",
        "(x_train, y_train), (x_test, y_test) = data\n",
        "\n",
        "split_classes = [8, 9]\n",
        "\n",
        "# Check data distribution too see if tis uniform\n",
        "for i in range(0,10):\n",
        "    print(np.count_nonzero(y_train==i))\n",
        "\n",
        "# Atribute labels\n",
        "data_dict = {\n",
        "    0: 'airplane',\n",
        "    1: 'automobile',\n",
        "    2: 'bird',\n",
        "    3: 'cat',\n",
        "    4: 'deer',\n",
        "    5: 'dog',\n",
        "    6: 'frog',\n",
        "    7: 'horse',\n",
        "    8: 'ship',\n",
        "    9: 'truck'\n",
        "}\n",
        "\n",
        "# Visualize some of the images\n",
        "n = random.randrange(5000)\n",
        "plt.imshow(x_train[n])\n",
        "label_text = data_dict[y_train[n][0]]\n",
        "plt.text(0.5, -0.1, label_text, ha='center', transform=plt.gca().transAxes, fontsize=12)\n",
        "\n",
        "plt.show()"
      ],
      "metadata": {
        "id": "1ofbUwPx4-d3"
      },
      "execution_count": null,
      "outputs": []
    },
    {
      "cell_type": "markdown",
      "source": [
        "# **2. Preprocess**"
      ],
      "metadata": {
        "id": "RmkwCuAS5Kk2"
      }
    },
    {
      "cell_type": "code",
      "source": [
        "# Reduce the values to be between 0 and 1 to make the model better\n",
        "\n",
        "x_train = (x_train/255).astype(np.float32)\n",
        "x_test = (x_test/255).astype(np.float32)\n",
        "\n",
        "# Separate into two classes to make two models\n",
        "# 8 classes\n",
        "mask_train_8 = np.isin(y_train, split_classes, invert=True).flatten()\n",
        "mask_test_8 = np.isin(y_test, split_classes, invert=True).flatten()\n",
        "\n",
        "x_train_8, y_train_8 = x_train[mask_train_8], y_train[mask_train_8]\n",
        "x_test_8, y_test_8 = x_test[mask_test_8], y_test[mask_test_8]\n",
        "\n",
        "\n",
        "# 2 classes\n",
        "mask_train_2 = np.isin(y_train, split_classes).flatten()\n",
        "mask_test_2 = np.isin(y_test, split_classes).flatten()\n",
        "\n",
        "x_train_2, y_train_2 = x_train[mask_train_2], y_train[mask_train_2]\n",
        "x_test_2, y_test_2 = x_test[mask_test_2], y_test[mask_test_2]\n",
        "\n",
        "y_train_2 = np.isin(y_train_2, split_classes[0]).astype(int)\n",
        "y_test_2 = np.isin(y_test_2, split_classes[0]).astype(int)\n",
        "\n",
        "input_shape = (32, 32, 3)\n"
      ],
      "metadata": {
        "id": "0jw6OBeE5PJS"
      },
      "execution_count": null,
      "outputs": []
    },
    {
      "cell_type": "markdown",
      "source": [
        "# 3. **Build Model**"
      ],
      "metadata": {
        "id": "Whc5wCf15ker"
      }
    },
    {
      "cell_type": "code",
      "source": [
        "# Mode from where we will transfer data\n",
        "\n",
        "x = tf.random.normal(input_shape)\n",
        "model = tf.keras.Sequential([\n",
        "        tf.keras.layers.Conv2D(32, (3,3), activation='relu', input_shape=input_shape),\n",
        "        tf.keras.layers.MaxPooling2D((2, 2), 1),\n",
        "        tf.keras.layers.Conv2D(64, (2,2), activation='relu'),\n",
        "        tf.keras.layers.MaxPooling2D((2, 2), 1),\n",
        "        tf.keras.layers.Flatten(),\n",
        "        tf.keras.layers.Dense(256, activation='relu'),\n",
        "        tf.keras.layers.Dense(8, activation='softmax')])\n",
        "\n",
        "single_image = x_train[0]\n",
        "single_image = np.expand_dims(single_image, axis=0)\n"
      ],
      "metadata": {
        "id": "MuYYmkXo5nM9"
      },
      "execution_count": null,
      "outputs": []
    },
    {
      "cell_type": "markdown",
      "source": [
        "# **4. Compile Model**"
      ],
      "metadata": {
        "id": "5lXOusY35vjY"
      }
    },
    {
      "cell_type": "code",
      "source": [
        "learning_rate = 1e-3\n",
        "optimizer = tf.keras.optimizers.Adam(learning_rate)\n",
        "\n",
        "model.compile(optimizer= optimizer, loss='sparse_categorical_crossentropy', metrics=['accuracy'])\n",
        "print(model.summary())"
      ],
      "metadata": {
        "id": "ayFVhDYJ5wlm"
      },
      "execution_count": null,
      "outputs": []
    },
    {
      "cell_type": "markdown",
      "source": [
        "# **5. Train Model**"
      ],
      "metadata": {
        "id": "78x-JfJR5zbP"
      }
    },
    {
      "cell_type": "code",
      "source": [
        "model.fit(x_train_8,y_train_8, batch_size=64, epochs=10, validation_data=(x_test_8, y_test_8))\n"
      ],
      "metadata": {
        "id": "tVE40QYB51S3"
      },
      "execution_count": null,
      "outputs": []
    },
    {
      "cell_type": "markdown",
      "source": [
        "# **6. Build Second Model**"
      ],
      "metadata": {
        "id": "EegliEXy54UX"
      }
    },
    {
      "cell_type": "code",
      "source": [
        "model2 = tf.keras.Sequential([\n",
        "\n",
        "        tf.keras.layers.Conv2D(32, (3,3), activation='relu', input_shape=input_shape),\n",
        "        tf.keras.layers.MaxPooling2D((2, 2), 1),\n",
        "        tf.keras.layers.Conv2D(64, (2,2), activation='relu'),\n",
        "        tf.keras.layers.MaxPooling2D((2, 2), 1),\n",
        "        tf.keras.layers.Flatten(),\n",
        "        tf.keras.layers.Dense(256, activation='relu'),\n",
        "        tf.keras.layers.Dense(1, activation='sigmoid')])\n",
        "\n",
        "model2.compile(optimizer= 'adam', loss='binary_crossentropy', metrics=['accuracy'])\n",
        "\n",
        "model2.fit(x_train_2,y_train_2, batch_size=64, epochs=10, validation_data=(x_test_2, y_test_2))\n"
      ],
      "metadata": {
        "id": "WgPo-6yn58mH"
      },
      "execution_count": null,
      "outputs": []
    },
    {
      "cell_type": "markdown",
      "source": [
        "# **7. Transfer Learning**"
      ],
      "metadata": {
        "id": "f4NK7KWW6AEw"
      }
    },
    {
      "cell_type": "code",
      "source": [
        "model.layers[0].trainable = False\n",
        "model.layers[1].trainable = False\n",
        "model.layers[2].trainable = False\n",
        "\n",
        "model.pop()\n",
        "model.add(tf.keras.layers.Dense(1 ,activation=\"sigmoid\"))\n",
        "model.layers\n",
        "\n",
        "\n",
        "\n"
      ],
      "metadata": {
        "id": "xFi0ydHq6B7Y"
      },
      "execution_count": null,
      "outputs": []
    },
    {
      "cell_type": "code",
      "source": [
        "model.compile(optimizer= \"adam\", loss='binary_crossentropy', metrics=['accuracy'])\n",
        "model.fit(x_train_2, y_train_2, batch_size=64, epochs=10, validation_data=(x_test_2, y_test_2))"
      ],
      "metadata": {
        "id": "aVgUHR4nMzbw"
      },
      "execution_count": null,
      "outputs": []
    }
  ]
}